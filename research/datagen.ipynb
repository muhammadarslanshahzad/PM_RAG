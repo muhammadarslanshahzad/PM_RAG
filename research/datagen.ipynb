{
 "cells": [
  {
   "cell_type": "code",
   "execution_count": 2,
   "id": "e0e47a10-1182-4785-b06c-29bfbf26309b",
   "metadata": {},
   "outputs": [
    {
     "name": "stdout",
     "output_type": "stream",
     "text": [
      "Collecting pandas\n",
      "  Downloading pandas-2.2.2-cp310-cp310-manylinux_2_17_x86_64.manylinux2014_x86_64.whl.metadata (19 kB)\n",
      "Collecting numpy>=1.22.4 (from pandas)\n",
      "  Using cached numpy-1.26.4-cp310-cp310-manylinux_2_17_x86_64.manylinux2014_x86_64.whl.metadata (61 kB)\n",
      "Requirement already satisfied: python-dateutil>=2.8.2 in /home/muhammadarslanshahzad/.local/lib/python3.10/site-packages (from pandas) (2.8.2)\n",
      "Collecting pytz>=2020.1 (from pandas)\n",
      "  Using cached pytz-2024.1-py2.py3-none-any.whl.metadata (22 kB)\n",
      "Collecting tzdata>=2022.7 (from pandas)\n",
      "  Using cached tzdata-2024.1-py2.py3-none-any.whl.metadata (1.4 kB)\n",
      "Requirement already satisfied: six>=1.5 in /home/muhammadarslanshahzad/anaconda3/envs/trim/lib/python3.10/site-packages (from python-dateutil>=2.8.2->pandas) (1.16.0)\n",
      "Downloading pandas-2.2.2-cp310-cp310-manylinux_2_17_x86_64.manylinux2014_x86_64.whl (13.0 MB)\n",
      "\u001b[2K   \u001b[38;2;114;156;31m━━━━━━━━━━━━━━━━━━━━━━━━━━━━━━━━━━━━━━━━\u001b[0m \u001b[32m13.0/13.0 MB\u001b[0m \u001b[31m5.3 MB/s\u001b[0m eta \u001b[36m0:00:00\u001b[0mm eta \u001b[36m0:00:01\u001b[0m[36m0:00:01\u001b[0m\n",
      "\u001b[?25hUsing cached numpy-1.26.4-cp310-cp310-manylinux_2_17_x86_64.manylinux2014_x86_64.whl (18.2 MB)\n",
      "Using cached pytz-2024.1-py2.py3-none-any.whl (505 kB)\n",
      "Using cached tzdata-2024.1-py2.py3-none-any.whl (345 kB)\n",
      "Installing collected packages: pytz, tzdata, numpy, pandas\n",
      "Successfully installed numpy-1.26.4 pandas-2.2.2 pytz-2024.1 tzdata-2024.1\n"
     ]
    }
   ],
   "source": [
    "!pip install pandas"
   ]
  },
  {
   "cell_type": "code",
   "execution_count": 3,
   "id": "1ac930fe-4084-4290-8a87-7c99c123407c",
   "metadata": {},
   "outputs": [
    {
     "name": "stdout",
     "output_type": "stream",
     "text": [
      "Collecting faker\n",
      "  Downloading Faker-25.1.0-py3-none-any.whl.metadata (15 kB)\n",
      "Requirement already satisfied: python-dateutil>=2.4 in /home/muhammadarslanshahzad/.local/lib/python3.10/site-packages (from faker) (2.8.2)\n",
      "Requirement already satisfied: six>=1.5 in /home/muhammadarslanshahzad/anaconda3/envs/trim/lib/python3.10/site-packages (from python-dateutil>=2.4->faker) (1.16.0)\n",
      "Downloading Faker-25.1.0-py3-none-any.whl (1.8 MB)\n",
      "\u001b[2K   \u001b[38;2;114;156;31m━━━━━━━━━━━━━━━━━━━━━━━━━━━━━━━━━━━━━━━━\u001b[0m \u001b[32m1.8/1.8 MB\u001b[0m \u001b[31m1.6 MB/s\u001b[0m eta \u001b[36m0:00:00\u001b[0m[31m1.6 MB/s\u001b[0m eta \u001b[36m0:00:01\u001b[0m\n",
      "\u001b[?25hInstalling collected packages: faker\n",
      "Successfully installed faker-25.1.0\n"
     ]
    }
   ],
   "source": [
    "!pip install faker"
   ]
  },
  {
   "cell_type": "code",
   "execution_count": 5,
   "id": "900fb89d-b70d-4da5-a6e0-e7988e60c516",
   "metadata": {},
   "outputs": [],
   "source": [
    "import random\n",
    "import pandas as pd\n",
    "from datetime import timedelta\n",
    "from faker import Faker"
   ]
  },
  {
   "cell_type": "code",
   "execution_count": 8,
   "id": "032b40d0-72d6-477a-82fd-726cc1ae289f",
   "metadata": {},
   "outputs": [],
   "source": [
    "fake = Faker()"
   ]
  },
  {
   "cell_type": "code",
   "execution_count": 16,
   "id": "3ee2baa9-b833-4d96-90f2-60addfb3e30c",
   "metadata": {},
   "outputs": [],
   "source": [
    "# Function to generate fake data\n",
    "def generate_data(num_projects, num_tasks_per_project):\n",
    "    data = []\n",
    "    for project_id in range(1, num_projects + 1):\n",
    "        start_date = fake.date_between(start_date=\"-1y\", end_date=\"today\")\n",
    "        for task_id in range(1, num_tasks_per_project + 1):\n",
    "            duration = random.randint(1, 14)  # Duration between 1 and 14 days\n",
    "            end_date = start_date + timedelta(days=duration)\n",
    "            data.append({\n",
    "                \"Project ID\": f\"Project_{project_id}\",\n",
    "                \"Task ID\": f\"Task_{task_id}\",\n",
    "                \"Task Name\": fake.bs(),\n",
    "                \"Start Date\": start_date,\n",
    "                \"End Date\": end_date,\n",
    "                \"Duration (Days)\": duration,\n",
    "                \"Dependencies\": f\"Task_{random.randint(1, task_id-1) if task_id > 1 else 'N/A'}\",\n",
    "                \"Resource\": fake.name()\n",
    "            })\n",
    "            start_date = end_date + timedelta(days=random.randint(1, 3))  # Gap between tasks\n",
    "    return pd.DataFrame(data)"
   ]
  },
  {
   "cell_type": "code",
   "execution_count": 17,
   "id": "8b28d9e5-417f-4efd-95d4-6470cddcdef8",
   "metadata": {},
   "outputs": [],
   "source": [
    "df = generate_data(5, 10)  "
   ]
  },
  {
   "cell_type": "code",
   "execution_count": 18,
   "id": "47695e4d-cdbb-4e97-903c-aa9e3d885848",
   "metadata": {},
   "outputs": [
    {
     "data": {
      "text/html": [
       "<div>\n",
       "<style scoped>\n",
       "    .dataframe tbody tr th:only-of-type {\n",
       "        vertical-align: middle;\n",
       "    }\n",
       "\n",
       "    .dataframe tbody tr th {\n",
       "        vertical-align: top;\n",
       "    }\n",
       "\n",
       "    .dataframe thead th {\n",
       "        text-align: right;\n",
       "    }\n",
       "</style>\n",
       "<table border=\"1\" class=\"dataframe\">\n",
       "  <thead>\n",
       "    <tr style=\"text-align: right;\">\n",
       "      <th></th>\n",
       "      <th>Project ID</th>\n",
       "      <th>Task ID</th>\n",
       "      <th>Task Name</th>\n",
       "      <th>Start Date</th>\n",
       "      <th>End Date</th>\n",
       "      <th>Duration (Days)</th>\n",
       "      <th>Dependencies</th>\n",
       "      <th>Resource</th>\n",
       "    </tr>\n",
       "  </thead>\n",
       "  <tbody>\n",
       "    <tr>\n",
       "      <th>0</th>\n",
       "      <td>Project_1</td>\n",
       "      <td>Task_1</td>\n",
       "      <td>facilitate scalable functionalities</td>\n",
       "      <td>2023-10-19</td>\n",
       "      <td>2023-10-31</td>\n",
       "      <td>12</td>\n",
       "      <td>Task_N/A</td>\n",
       "      <td>Mark Hogan</td>\n",
       "    </tr>\n",
       "    <tr>\n",
       "      <th>1</th>\n",
       "      <td>Project_1</td>\n",
       "      <td>Task_2</td>\n",
       "      <td>e-enable wireless methodologies</td>\n",
       "      <td>2023-11-01</td>\n",
       "      <td>2023-11-03</td>\n",
       "      <td>2</td>\n",
       "      <td>Task_1</td>\n",
       "      <td>Sarah Montoya</td>\n",
       "    </tr>\n",
       "    <tr>\n",
       "      <th>2</th>\n",
       "      <td>Project_1</td>\n",
       "      <td>Task_3</td>\n",
       "      <td>optimize wireless web-readiness</td>\n",
       "      <td>2023-11-05</td>\n",
       "      <td>2023-11-10</td>\n",
       "      <td>5</td>\n",
       "      <td>Task_2</td>\n",
       "      <td>Misty Clark</td>\n",
       "    </tr>\n",
       "    <tr>\n",
       "      <th>3</th>\n",
       "      <td>Project_1</td>\n",
       "      <td>Task_4</td>\n",
       "      <td>enhance world-class channels</td>\n",
       "      <td>2023-11-12</td>\n",
       "      <td>2023-11-26</td>\n",
       "      <td>14</td>\n",
       "      <td>Task_1</td>\n",
       "      <td>Kathleen Tate</td>\n",
       "    </tr>\n",
       "    <tr>\n",
       "      <th>4</th>\n",
       "      <td>Project_1</td>\n",
       "      <td>Task_5</td>\n",
       "      <td>re-contextualize turn-key paradigms</td>\n",
       "      <td>2023-11-28</td>\n",
       "      <td>2023-12-12</td>\n",
       "      <td>14</td>\n",
       "      <td>Task_3</td>\n",
       "      <td>Laurie Reyes</td>\n",
       "    </tr>\n",
       "  </tbody>\n",
       "</table>\n",
       "</div>"
      ],
      "text/plain": [
       "  Project ID Task ID                            Task Name  Start Date  \\\n",
       "0  Project_1  Task_1  facilitate scalable functionalities  2023-10-19   \n",
       "1  Project_1  Task_2      e-enable wireless methodologies  2023-11-01   \n",
       "2  Project_1  Task_3      optimize wireless web-readiness  2023-11-05   \n",
       "3  Project_1  Task_4         enhance world-class channels  2023-11-12   \n",
       "4  Project_1  Task_5  re-contextualize turn-key paradigms  2023-11-28   \n",
       "\n",
       "     End Date  Duration (Days) Dependencies       Resource  \n",
       "0  2023-10-31               12     Task_N/A     Mark Hogan  \n",
       "1  2023-11-03                2       Task_1  Sarah Montoya  \n",
       "2  2023-11-10                5       Task_2    Misty Clark  \n",
       "3  2023-11-26               14       Task_1  Kathleen Tate  \n",
       "4  2023-12-12               14       Task_3   Laurie Reyes  "
      ]
     },
     "execution_count": 18,
     "metadata": {},
     "output_type": "execute_result"
    }
   ],
   "source": [
    "df.head()"
   ]
  },
  {
   "cell_type": "code",
   "execution_count": 19,
   "id": "663ecde8-427c-48b5-943d-b3a08488192e",
   "metadata": {},
   "outputs": [],
   "source": [
    "\n",
    "# Save to CSV\n",
    "df.to_csv(\"program_management_data.csv\", index=False)"
   ]
  },
  {
   "cell_type": "code",
   "execution_count": null,
   "id": "fc698a2c-53c3-41f8-a716-b511ec808f7f",
   "metadata": {},
   "outputs": [],
   "source": []
  }
 ],
 "metadata": {
  "kernelspec": {
   "display_name": "Python 3 (ipykernel)",
   "language": "python",
   "name": "python3"
  },
  "language_info": {
   "codemirror_mode": {
    "name": "ipython",
    "version": 3
   },
   "file_extension": ".py",
   "mimetype": "text/x-python",
   "name": "python",
   "nbconvert_exporter": "python",
   "pygments_lexer": "ipython3",
   "version": "3.10.0"
  }
 },
 "nbformat": 4,
 "nbformat_minor": 5
}
